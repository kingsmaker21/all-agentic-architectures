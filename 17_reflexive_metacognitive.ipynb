{
  "cells": [
    {
      "cell_type": "markdown",
      "id": "intro-title",
      "metadata": {
        "id": "intro-title"
      },
      "source": [
        "# 📘 Agentic Architectures 17: Reflexive Metacognitive Agents\n",
        "\n",
        "Welcome to an in-depth implementation of one of the most sophisticated agentic patterns: the **Reflexive Metacognitive Agent**. This architecture endows an agent with a form of self-awareness, enabling it to reason about its own capabilities, confidence, and limitations before taking action.\n",
        "\n",
        "This goes a step beyond simple self-reflection. A metacognitive agent maintains an explicit **\"self-model\"**—a structured representation of its own knowledge, tools, and boundaries. When faced with a task, its first step is not to solve the problem, but to *analyze the problem in the context of its self-model*. It asks internal questions like:\n",
        "- \"Do I have sufficient knowledge to answer this confidently?\"\n",
        "- \"Is this topic within my designated area of expertise?\"\n",
        "- \"Do I have a specific tool that is required to answer this safely and accurately?\"\n",
        "- \"Is the user's query about a high-stakes topic where an error would be dangerous?\"\n",
        "\n",
        "Based on the answers, it chooses a strategy: reason directly, use a specialized tool, or—most importantly—**escalate to a human** when the task exceeds its known limits.\n",
        "\n",
        "To build a complex and powerful demonstration, we will create a **Medical Triage & Information Assistant**. This is a classic high-stakes scenario where the agent's ability to recognize its limitations is not just a feature, but a critical safety requirement."
      ]
    },
    {
      "cell_type": "markdown",
      "id": "intro-definition",
      "metadata": {
        "id": "intro-definition"
      },
      "source": [
        "### Definition\n",
        "A **Reflexive Metacognitive Agent** is an agent that maintains and uses an explicit model of its own capabilities, knowledge boundaries, and confidence levels to select the most appropriate strategy for a given task. This self-modeling allows it to behave more safely and reliably, especially in domains where incorrect information is harmful.\n",
        "\n",
        "### High-level Workflow\n",
        "\n",
        "1.  **Perceive Task:** The agent receives a user request.\n",
        "2.  **Metacognitive Analysis (Self-Reflection):** The agent's core reasoning engine analyzes the request *against its own self-model*. It assesses its confidence, the relevance of its tools, and whether the query falls within its predefined operational domain.\n",
        "3.  **Strategy Selection:** Based on the analysis, the agent selects one of several strategies:\n",
        "    *   **Reason Directly:** For high-confidence, low-risk queries within its knowledge base.\n",
        "    *   **Use Tool:** When the query requires a specific capability the agent possesses via a tool.\n",
        "    *   **Escalate/Refuse:** For low-confidence, high-risk, or out-of-scope queries.\n",
        "4.  **Execute Strategy:** The chosen path is executed.\n",
        "5.  **Respond:** The agent provides the result, which could be a direct answer, a tool-augmented answer, or a safe refusal with instructions to consult an expert.\n",
        "\n",
        "### When to Use / Applications\n",
        "*   **High-Stakes Advisory Systems:** Any system providing information in domains like healthcare, law, or finance, where an agent must be able to say \"I don't know\" or \"You should consult a professional.\"\n",
        "*   **Autonomous Systems:** A robot that must assess its own ability to perform a physical task safely before attempting it.\n",
        "*   **Complex Tool Orchestrators:** An agent that must choose the right API from a vast library, understanding that some APIs are more dangerous or costly than others.\n",
        "\n",
        "### Strengths & Weaknesses\n",
        "*   **Strengths:**\n",
        "    *   **Enhanced Safety and Reliability:** The primary benefit. The agent is explicitly designed to avoid making confident assertions in areas where it is not an expert.\n",
        "    *   **Improved Decision Making:** Leads to more robust behavior by forcing a deliberate choice of strategy instead of naive, direct attempts.\n",
        "*   **Weaknesses:**\n",
        "    *   **Complexity of Self-Model:** Defining and maintaining an accurate self-model can be complex.\n",
        "    *   **Metacognitive Overhead:** The initial analysis step adds latency and computational cost to every request."
      ]
    },
    {
      "cell_type": "markdown",
      "id": "phase0-title",
      "metadata": {
        "id": "phase0-title"
      },
      "source": [
        "## Phase 0: Foundation & Setup\n",
        "\n",
        "Standard setup of libraries and environment variables."
      ]
    },
    {
      "cell_type": "code",
      "execution_count": 1,
      "id": "install-libs",
      "metadata": {
        "id": "install-libs",
        "outputId": "a5e9f75d-f2ae-4f87-87b2-9d091d9e3839",
        "colab": {
          "base_uri": "https://localhost:8080/"
        }
      },
      "outputs": [
        {
          "output_type": "stream",
          "name": "stdout",
          "text": [
            "\u001b[2K     \u001b[90m━━━━━━━━━━━━━━━━━━━━━━━━━━━━━━━━━━━━━━━━\u001b[0m \u001b[32m43.7/43.7 kB\u001b[0m \u001b[31m2.8 MB/s\u001b[0m eta \u001b[36m0:00:00\u001b[0m\n",
            "\u001b[2K   \u001b[90m━━━━━━━━━━━━━━━━━━━━━━━━━━━━━━━━━━━━━━━━\u001b[0m \u001b[32m154.8/154.8 kB\u001b[0m \u001b[31m9.1 MB/s\u001b[0m eta \u001b[36m0:00:00\u001b[0m\n",
            "\u001b[2K   \u001b[90m━━━━━━━━━━━━━━━━━━━━━━━━━━━━━━━━━━━━━━━━\u001b[0m \u001b[32m243.4/243.4 kB\u001b[0m \u001b[31m16.4 MB/s\u001b[0m eta \u001b[36m0:00:00\u001b[0m\n",
            "\u001b[2K   \u001b[90m━━━━━━━━━━━━━━━━━━━━━━━━━━━━━━━━━━━━━━━━\u001b[0m \u001b[32m75.6/75.6 kB\u001b[0m \u001b[31m5.9 MB/s\u001b[0m eta \u001b[36m0:00:00\u001b[0m\n",
            "\u001b[2K   \u001b[90m━━━━━━━━━━━━━━━━━━━━━━━━━━━━━━━━━━━━━━━━\u001b[0m \u001b[32m43.9/43.9 kB\u001b[0m \u001b[31m2.8 MB/s\u001b[0m eta \u001b[36m0:00:00\u001b[0m\n",
            "\u001b[2K   \u001b[90m━━━━━━━━━━━━━━━━━━━━━━━━━━━━━━━━━━━━━━━━\u001b[0m \u001b[32m56.8/56.8 kB\u001b[0m \u001b[31m4.7 MB/s\u001b[0m eta \u001b[36m0:00:00\u001b[0m\n",
            "\u001b[2K   \u001b[90m━━━━━━━━━━━━━━━━━━━━━━━━━━━━━━━━━━━━━━━━\u001b[0m \u001b[32m216.7/216.7 kB\u001b[0m \u001b[31m13.9 MB/s\u001b[0m eta \u001b[36m0:00:00\u001b[0m\n",
            "\u001b[?25h\u001b[31mERROR: pip's dependency resolver does not currently take into account all the packages that are installed. This behaviour is the source of the following dependency conflicts.\n",
            "bigframes 2.23.0 requires rich<14,>=12.4.4, but you have rich 14.1.0 which is incompatible.\u001b[0m\u001b[31m\n",
            "\u001b[0m"
          ]
        }
      ],
      "source": [
        "!pip install -q -U langchain-nebius langchain langgraph rich python-dotenv"
      ]
    },
    {
      "cell_type": "code",
      "execution_count": 2,
      "id": "import-and-keys",
      "metadata": {
        "id": "import-and-keys",
        "outputId": "368794e5-55f8-4b75-899a-9bcb2355ed59",
        "colab": {
          "base_uri": "https://localhost:8080/"
        }
      },
      "outputs": [
        {
          "output_type": "stream",
          "name": "stdout",
          "text": [
            "Environment variables loaded and tracing is set up.\n"
          ]
        }
      ],
      "source": [
        "import os\n",
        "from typing import List, Dict, Any, Optional\n",
        "from dotenv import load_dotenv\n",
        "\n",
        "# Pydantic for data modeling\n",
        "from pydantic import BaseModel, Field\n",
        "\n",
        "# LangChain components\n",
        "from langchain_nebius import ChatNebius\n",
        "from langchain_core.prompts import ChatPromptTemplate\n",
        "\n",
        "# LangGraph components\n",
        "from langgraph.graph import StateGraph, END\n",
        "from typing_extensions import TypedDict\n",
        "\n",
        "# For pretty printing\n",
        "from rich.console import Console\n",
        "from rich.markdown import Markdown\n",
        "from rich.panel import Panel\n",
        "\n",
        "# --- API Key and Tracing Setup ---\n",
        "load_dotenv()\n",
        "\n",
        "os.environ[\"LANGCHAIN_TRACING_V2\"] = \"true\"\n",
        "os.environ[\"LANGCHAIN_PROJECT\"] = \"Agentic Architecture - Metacognitive Agent (Nebius)\"\n",
        "\n",
        "required_vars = [\"NEBIUS_API_KEY\", \"LANGCHAIN_API_KEY\"]\n",
        "for var in required_vars:\n",
        "    if var not in os.environ:\n",
        "        print(f\"Warning: Environment variable {var} not set.\")\n",
        "\n",
        "print(\"Environment variables loaded and tracing is set up.\")"
      ]
    },
    {
      "cell_type": "markdown",
      "id": "phase1-title",
      "metadata": {
        "id": "phase1-title"
      },
      "source": [
        "## Phase 1: Defining the Agent's Self-Model and Tools\n",
        "\n",
        "This is the foundation of the agent's self-awareness. We'll create a structured `AgentSelfModel` and a specialized tool. This model is not just a prompt; it's a configuration object that will be passed into the agent's reasoning loop."
      ]
    },
    {
      "cell_type": "code",
      "execution_count": 3,
      "id": "environment-setup-code",
      "metadata": {
        "id": "environment-setup-code",
        "outputId": "a7dcd356-d57e-4918-9bb5-f2044430bd34",
        "colab": {
          "base_uri": "https://localhost:8080/"
        }
      },
      "outputs": [
        {
          "output_type": "stream",
          "name": "stdout",
          "text": [
            "Agent Self-Model and Tools defined successfully.\n"
          ]
        }
      ],
      "source": [
        "console = Console()\n",
        "\n",
        "# --- The Agent's Self-Model ---\n",
        "class AgentSelfModel(BaseModel):\n",
        "    \"\"\"A structured representation of the agent's capabilities and limitations.\"\"\"\n",
        "    name: str\n",
        "    role: str\n",
        "    # The agent's explicit knowledge boundaries\n",
        "    knowledge_domain: List[str] = Field(description=\"List of topics the agent is knowledgeable about.\")\n",
        "    # The agent's available tools\n",
        "    available_tools: List[str] = Field(description=\"List of tools the agent can use.\")\n",
        "    confidence_threshold: float = Field(description=\"The confidence level (0-1) below which the agent must escalate.\", default=0.6)\n",
        "\n",
        "# Instantiate the self-model for our Medical Triage Agent\n",
        "medical_agent_model = AgentSelfModel(\n",
        "    name=\"TriageBot-3000\",\n",
        "    role=\"A helpful AI assistant for providing preliminary medical information.\",\n",
        "    knowledge_domain=[\"common_cold\", \"influenza\", \"allergies\", \"headaches\", \"basic_first_aid\"],\n",
        "    available_tools=[\"drug_interaction_checker\"]\n",
        ")\n",
        "\n",
        "# --- Specialist Tools ---\n",
        "class DrugInteractionChecker:\n",
        "    \"\"\"A mock tool to check for drug interactions.\"\"\"\n",
        "    def check(self, drug_a: str, drug_b: str) -> str:\n",
        "        \"\"\"Checks for interactions between two drugs.\"\"\"\n",
        "        # In a real system, this would query a medical database.\n",
        "        known_interactions = {\n",
        "            frozenset([\"ibuprofen\", \"lisinopril\"]): \"Moderate risk: Ibuprofen may reduce the blood pressure-lowering effects of lisinopril. Monitor blood pressure.\",\n",
        "            frozenset([\"aspirin\", \"warfarin\"]): \"High risk: Increased risk of bleeding. This combination should be avoided unless directed by a doctor.\"\n",
        "        }\n",
        "        interaction = known_interactions.get(frozenset([drug_a.lower(), drug_b.lower()]))\n",
        "        if interaction:\n",
        "            return f\"Interaction Found: {interaction}\"\n",
        "        return \"No known significant interactions found. However, always consult a pharmacist or doctor.\"\n",
        "\n",
        "drug_tool = DrugInteractionChecker()\n",
        "print(\"Agent Self-Model and Tools defined successfully.\")"
      ]
    },
    {
      "cell_type": "code",
      "source": [
        "# Replace line: llm = ChatNebius(model=\"mistralai/Mixtral-8x22B-Instruct-v0.1\", temperature=0)\n",
        "\n",
        "# With this:\n",
        "MODEL_FALLBACKS = [\n",
        "    \"nvidia/Llama-3_1-Nemotron-Ultra-253B-v1\",\n",
        "    \"mistralai/Mistral-7B-Instruct-v0.2\",\n",
        "    \"mixtral-8x7b-instruct\",\n",
        "    \"deepseek-ai/DeepSeek-R1-0528\",\n",
        "]\n",
        "\n",
        "llm = None\n",
        "for model_name in MODEL_FALLBACKS:\n",
        "    try:\n",
        "        llm = ChatNebius(model=model_name, temperature=0)\n",
        "        test = llm.invoke(\"test\")  # Verify it works\n",
        "        print(f\"✅ Using model: {model_name}\")\n",
        "        break\n",
        "    except Exception as e:\n",
        "        print(f\"❌ {model_name} failed\")\n",
        "        continue\n",
        "\n",
        "if llm is None:\n",
        "    print(\"⚠️ All Nebius models failed. Switching to OpenAI fallback...\")\n",
        "    from langchain_openai import ChatOpenAI\n",
        "    llm = ChatOpenAI(model=\"gpt-4o-mini\", temperature=0)"
      ],
      "metadata": {
        "id": "0EIBRlMjHkDA",
        "colab": {
          "base_uri": "https://localhost:8080/"
        },
        "outputId": "eb2f4904-acab-4383-a873-beeaaebbb22a"
      },
      "id": "0EIBRlMjHkDA",
      "execution_count": 8,
      "outputs": [
        {
          "output_type": "stream",
          "name": "stdout",
          "text": [
            "✅ Using model: nvidia/Llama-3_1-Nemotron-Ultra-253B-v1\n"
          ]
        }
      ]
    },
    {
      "cell_type": "markdown",
      "id": "phase2-title",
      "metadata": {
        "id": "phase2-title"
      },
      "source": [
        "## Phase 2: Building the Metacognitive Agent with LangGraph\n",
        "\n",
        "This is where the magic happens. We'll build a graph where the very first step is the **metacognitive analysis**. This node will use a powerful, detailed prompt to make the agent reason about itself. A conditional router will then direct the flow based on the chosen strategy."
      ]
    },
    {
      "cell_type": "code",
      "execution_count": 9,
      "id": "agent-build-code",
      "metadata": {
        "id": "agent-build-code",
        "outputId": "a4f91fee-a544-4beb-c84e-284e335b131a",
        "colab": {
          "base_uri": "https://localhost:8080/"
        }
      },
      "outputs": [
        {
          "output_type": "stream",
          "name": "stdout",
          "text": [
            "Reflexive Metacognitive Agent graph compiled successfully.\n"
          ]
        }
      ],
      "source": [
        "#llm = ChatNebius(model=\"mistralai/Mixtral-8x22B-Instruct-v0.1\", temperature=0)\n",
        "\n",
        "# Pydantic Models for structured outputs\n",
        "class MetacognitiveAnalysis(BaseModel):\n",
        "    \"\"\"The agent's self-analysis of a query.\"\"\"\n",
        "    confidence: float = Field(description=\"A score from 0.0 to 1.0 representing the agent's confidence in its ability to answer safely and accurately.\")\n",
        "    strategy: str = Field(description=\"The chosen strategy. Must be one of: 'reason_directly', 'use_tool', 'escalate'.\")\n",
        "    reasoning: str = Field(description=\"A brief justification for the chosen confidence and strategy.\")\n",
        "    tool_to_use: Optional[str] = Field(description=\"If strategy is 'use_tool', the name of the tool to use.\", default=None)\n",
        "    tool_args: Optional[Dict[str, Any]] = Field(description=\"If strategy is 'use_tool', the arguments for the tool.\", default=None)\n",
        "\n",
        "# LangGraph State\n",
        "class AgentState(TypedDict):\n",
        "    user_query: str\n",
        "    self_model: AgentSelfModel\n",
        "    metacognitive_analysis: Optional[MetacognitiveAnalysis]\n",
        "    tool_output: Optional[str]\n",
        "    final_response: str\n",
        "\n",
        "# Graph Nodes\n",
        "def metacognitive_analysis_node(state: AgentState) -> Dict[str, Any]:\n",
        "    console.print(Panel(\"🤔 Agent is performing metacognitive analysis...\", title=\"[yellow]Step: Self-Reflection[/yellow]\"))\n",
        "    prompt = ChatPromptTemplate.from_template(\n",
        "        \"\"\"You are a metacognitive reasoning engine for an AI assistant. Your task is to analyze a user's query in the context of the agent's own capabilities and limitations (its 'self-model').\n",
        "        Your primary directive is **SAFETY**. You must determine the safest and most appropriate strategy for handling the query.\n",
        "\n",
        "        **Agent's Self-Model:**\n",
        "        - Name: {agent_name}\n",
        "        - Role: {agent_role}\n",
        "        - Knowledge Domain: {knowledge_domain}\n",
        "        - Available Tools: {available_tools}\n",
        "\n",
        "        **Strategy Rules:**\n",
        "        1.  **escalate:** Choose this strategy if the query involves a potential medical emergency (e.g., chest pain, difficulty breathing, severe injury, broken bones), is outside the agent's knowledge domain, or if you have any doubt about providing a safe answer. **WHEN IN DOUBT, ESCALATE.**\n",
        "        2.  **use_tool:** Choose this strategy if the query explicitly or implicitly requires one of the available tools. For example, a question about drug interactions requires the 'drug_interaction_checker'.\n",
        "        3.  **reason_directly:** Choose this strategy ONLY if you are highly confident the query is a simple, low-risk question that falls squarely within the agent's knowledge domain.\n",
        "\n",
        "        Analyze the user query below and provide your metacognitive analysis in the required format.\n",
        "\n",
        "        **User Query:** \"{query}\"\"\"\n",
        "    )\n",
        "    chain = prompt | llm.with_structured_output(MetacognitiveAnalysis)\n",
        "    analysis = chain.invoke({\n",
        "        \"query\": state['user_query'],\n",
        "        \"agent_name\": state['self_model'].name,\n",
        "        \"agent_role\": state['self_model'].role,\n",
        "        \"knowledge_domain\": \", \".join(state['self_model'].knowledge_domain),\n",
        "        \"available_tools\": \", \".join(state['self_model'].available_tools),\n",
        "    })\n",
        "    console.print(Panel(f\"[bold]Confidence:[/bold] {analysis.confidence:.2f}\\n[bold]Strategy:[/bold] {analysis.strategy}\\n[bold]Reasoning:[/bold] {analysis.reasoning}\", title=\"Metacognitive Analysis Result\"))\n",
        "    return {\"metacognitive_analysis\": analysis}\n",
        "\n",
        "def reason_directly_node(state: AgentState) -> Dict[str, Any]:\n",
        "    console.print(Panel(\"✅ Confident in direct answer. Generating response...\", title=\"[green]Strategy: Reason Directly[/green]\"))\n",
        "    prompt = ChatPromptTemplate.from_template(\"You are {agent_role}. Provide a helpful, non-prescriptive answer to the user's query. Remind the user that you are not a doctor.\\n\\nQuery: {query}\")\n",
        "    chain = prompt | llm\n",
        "    response = chain.invoke({\"agent_role\": state['self_model'].role, \"query\": state['user_query']}).content\n",
        "    return {\"final_response\": response}\n",
        "\n",
        "def call_tool_node(state: AgentState) -> Dict[str, Any]:\n",
        "    console.print(Panel(f\"🛠️ Confidence requires tool use. Calling `{state['metacognitive_analysis'].tool_to_use}`...\", title=\"[cyan]Strategy: Use Tool[/cyan]\"))\n",
        "    analysis = state['metacognitive_analysis']\n",
        "    if analysis.tool_to_use == 'drug_interaction_checker':\n",
        "        tool_output = drug_tool.check(**analysis.tool_args)\n",
        "        return {\"tool_output\": tool_output}\n",
        "    return {\"tool_output\": \"Error: Tool not found.\"}\n",
        "\n",
        "def synthesize_tool_response_node(state: AgentState) -> Dict[str, Any]:\n",
        "    console.print(Panel(\"📝 Synthesizing final response from tool output...\", title=\"[cyan]Step: Synthesize[/cyan]\"))\n",
        "    prompt = ChatPromptTemplate.from_template(\"You are {agent_role}. You have used a tool to get specific information. Now, present this information to the user in a clear and helpful way. ALWAYS include a disclaimer to consult a healthcare professional.\\n\\nOriginal Query: {query}\\nTool Output: {tool_output}\")\n",
        "    chain = prompt | llm\n",
        "    response = chain.invoke({\"agent_role\": state['self_model'].role, \"query\": state['user_query'], \"tool_output\": state['tool_output']}).content\n",
        "    return {\"final_response\": response}\n",
        "\n",
        "def escalate_to_human_node(state: AgentState) -> Dict[str, Any]:\n",
        "    console.print(Panel(\"🚨 Low confidence or high risk detected. Escalating to human.\", title=\"[bold red]Strategy: Escalate[/bold red]\"))\n",
        "    response = \"I am an AI assistant and not qualified to provide information on this topic. This query is outside my knowledge domain or involves potentially serious symptoms. **Please consult a qualified medical professional immediately.**\"\n",
        "    return {\"final_response\": response}\n",
        "\n",
        "# Conditional Edge\n",
        "def route_strategy(state: AgentState) -> str:\n",
        "    return state[\"metacognitive_analysis\"].strategy\n",
        "\n",
        "# Build the graph\n",
        "workflow = StateGraph(AgentState)\n",
        "workflow.add_node(\"analyze\", metacognitive_analysis_node)\n",
        "workflow.add_node(\"reason\", reason_directly_node)\n",
        "workflow.add_node(\"call_tool\", call_tool_node)\n",
        "workflow.add_node(\"synthesize\", synthesize_tool_response_node)\n",
        "workflow.add_node(\"escalate\", escalate_to_human_node)\n",
        "\n",
        "workflow.set_entry_point(\"analyze\")\n",
        "workflow.add_conditional_edges(\"analyze\", route_strategy, {\n",
        "    \"reason_directly\": \"reason\",\n",
        "    \"use_tool\": \"call_tool\",\n",
        "    \"escalate\": \"escalate\"\n",
        "})\n",
        "workflow.add_edge(\"call_tool\", \"synthesize\")\n",
        "workflow.add_edge(\"reason\", END)\n",
        "workflow.add_edge(\"synthesize\", END)\n",
        "workflow.add_edge(\"escalate\", END)\n",
        "\n",
        "metacognitive_agent = workflow.compile()\n",
        "print(\"Reflexive Metacognitive Agent graph compiled successfully.\")"
      ]
    },
    {
      "cell_type": "markdown",
      "id": "phase3-title",
      "metadata": {
        "id": "phase3-title"
      },
      "source": [
        "## Phase 3: Demonstration & Analysis\n",
        "\n",
        "Now we will test the agent with a series of increasingly difficult and high-stakes queries. We will observe how the metacognitive analysis correctly routes each query down the appropriate path, demonstrating the system's safety and self-awareness."
      ]
    },
    {
      "cell_type": "code",
      "execution_count": 10,
      "id": "demo-code",
      "metadata": {
        "id": "demo-code",
        "outputId": "061706ff-8cfb-4b24-8612-d6988f3c1667",
        "colab": {
          "base_uri": "https://localhost:8080/",
          "height": 1000
        }
      },
      "outputs": [
        {
          "output_type": "display_data",
          "data": {
            "text/plain": [
              "--- Test \u001b[1;36m1\u001b[0m: Simple, In-Scope, Low-Risk Query ---\n"
            ],
            "text/html": [
              "<pre style=\"white-space:pre;overflow-x:auto;line-height:normal;font-family:Menlo,'DejaVu Sans Mono',consolas,'Courier New',monospace\">--- Test <span style=\"color: #008080; text-decoration-color: #008080; font-weight: bold\">1</span>: Simple, In-Scope, Low-Risk Query ---\n",
              "</pre>\n"
            ]
          },
          "metadata": {}
        },
        {
          "output_type": "display_data",
          "data": {
            "text/plain": [
              "╭───────────────────────────────────────────── \u001b[33mStep: Self-Reflection\u001b[0m ─────────────────────────────────────────────╮\n",
              "│ 🤔 Agent is performing metacognitive analysis...                                                                │\n",
              "╰─────────────────────────────────────────────────────────────────────────────────────────────────────────────────╯\n"
            ],
            "text/html": [
              "<pre style=\"white-space:pre;overflow-x:auto;line-height:normal;font-family:Menlo,'DejaVu Sans Mono',consolas,'Courier New',monospace\">╭───────────────────────────────────────────── <span style=\"color: #808000; text-decoration-color: #808000\">Step: Self-Reflection</span> ─────────────────────────────────────────────╮\n",
              "│ 🤔 Agent is performing metacognitive analysis...                                                                │\n",
              "╰─────────────────────────────────────────────────────────────────────────────────────────────────────────────────╯\n",
              "</pre>\n"
            ]
          },
          "metadata": {}
        },
        {
          "output_type": "display_data",
          "data": {
            "text/plain": [
              "╭───────────────────────────────────────── Metacognitive Analysis Result ─────────────────────────────────────────╮\n",
              "│ \u001b[1mConfidence:\u001b[0m 0.95                                                                                                │\n",
              "│ \u001b[1mStrategy:\u001b[0m reason_directly                                                                                       │\n",
              "│ \u001b[1mReasoning:\u001b[0m The user's query is a straightforward request for information about the symptoms of a common cold,   │\n",
              "│ which is explicitly listed in the agent's knowledge domain. There is no indication of a medical emergency, and  │\n",
              "│ the topic does not require the use of any specialized tools. The agent can confidently provide a direct answer  │\n",
              "│ based on its training data, as this is a simple, low-risk question that falls squarely within its capabilities. │\n",
              "│ Therefore, the safest and most appropriate strategy is to reason directly and provide the requested             │\n",
              "│ information.                                                                                                    │\n",
              "╰─────────────────────────────────────────────────────────────────────────────────────────────────────────────────╯\n"
            ],
            "text/html": [
              "<pre style=\"white-space:pre;overflow-x:auto;line-height:normal;font-family:Menlo,'DejaVu Sans Mono',consolas,'Courier New',monospace\">╭───────────────────────────────────────── Metacognitive Analysis Result ─────────────────────────────────────────╮\n",
              "│ <span style=\"font-weight: bold\">Confidence:</span> 0.95                                                                                                │\n",
              "│ <span style=\"font-weight: bold\">Strategy:</span> reason_directly                                                                                       │\n",
              "│ <span style=\"font-weight: bold\">Reasoning:</span> The user's query is a straightforward request for information about the symptoms of a common cold,   │\n",
              "│ which is explicitly listed in the agent's knowledge domain. There is no indication of a medical emergency, and  │\n",
              "│ the topic does not require the use of any specialized tools. The agent can confidently provide a direct answer  │\n",
              "│ based on its training data, as this is a simple, low-risk question that falls squarely within its capabilities. │\n",
              "│ Therefore, the safest and most appropriate strategy is to reason directly and provide the requested             │\n",
              "│ information.                                                                                                    │\n",
              "╰─────────────────────────────────────────────────────────────────────────────────────────────────────────────────╯\n",
              "</pre>\n"
            ]
          },
          "metadata": {}
        },
        {
          "output_type": "display_data",
          "data": {
            "text/plain": [
              "╭─────────────────────────────────────────── \u001b[32mStrategy: Reason Directly\u001b[0m ───────────────────────────────────────────╮\n",
              "│ ✅ Confident in direct answer. Generating response...                                                           │\n",
              "╰─────────────────────────────────────────────────────────────────────────────────────────────────────────────────╯\n"
            ],
            "text/html": [
              "<pre style=\"white-space:pre;overflow-x:auto;line-height:normal;font-family:Menlo,'DejaVu Sans Mono',consolas,'Courier New',monospace\">╭─────────────────────────────────────────── <span style=\"color: #008000; text-decoration-color: #008000\">Strategy: Reason Directly</span> ───────────────────────────────────────────╮\n",
              "│ ✅ Confident in direct answer. Generating response...                                                           │\n",
              "╰─────────────────────────────────────────────────────────────────────────────────────────────────────────────────╯\n",
              "</pre>\n"
            ]
          },
          "metadata": {}
        },
        {
          "output_type": "display_data",
          "data": {
            "text/plain": [
              "\u001b[1mImportant Reminder: I'm not a doctor, and this information should not be considered a substitute for professional \u001b[0m \n",
              "\u001b[1mmedical advice. Always consult a healthcare professional for personalized guidance and diagnosis.\u001b[0m                  \n",
              "\n",
              "The common cold is a viral infection that typically affects the upper respiratory tract. Here are some \u001b[1mcommon \u001b[0m     \n",
              "\u001b[1msymptoms\u001b[0m associated with a cold:                                                                                   \n",
              "\n",
              "\u001b[1;33m  1 \u001b[0m\u001b[1mRunny or Stuffy Nose\u001b[0m: Thin, clear discharge that may become thicker and yellow or green as the cold progresses.\n",
              "\u001b[1;33m  2 \u001b[0m\u001b[1mSneezing\u001b[0m: Often accompanied by a runny nose.                                                                   \n",
              "\u001b[1;33m  3 \u001b[0m\u001b[1mCoughing\u001b[0m: Usually mild, but can be more severe in some cases.                                                  \n",
              "\u001b[1;33m  4 \u001b[0m\u001b[1mSore Throat\u001b[0m: Mild to moderate throat discomfort.                                                               \n",
              "\u001b[1;33m  5 \u001b[0m\u001b[1mMild Fatigue\u001b[0m: Feeling tired or lacking energy.                                                                 \n",
              "\u001b[1;33m  6 \u001b[0m\u001b[1mHeadache\u001b[0m: Usually mild, often described as a dull ache.                                                        \n",
              "\u001b[1;33m  7 \u001b[0m\u001b[1mMild Body Aches\u001b[0m: General feeling of discomfort or stiffness.                                                   \n",
              "\u001b[1;33m  8 \u001b[0m\u001b[1mLoss of Taste or Smell\u001b[0m: Temporary reduction in the ability to taste or smell.                                  \n",
              "\u001b[1;33m  9 \u001b[0m\u001b[1mMild Fever\u001b[0m: Some people, especially children, may experience a low-grade fever (less than 102°F/39°C).         \n",
              "\n",
              "\u001b[1mKey Notes:\u001b[0m                                                                                                         \n",
              "\n",
              "\u001b[1;33m • \u001b[0mCold symptoms usually develop gradually, over 1-2 days.                                                         \n",
              "\u001b[1;33m • \u001b[0mSymptoms typically last around 7-10 days, but some (like a cough) may persist for up to 3 weeks.                \n",
              "\u001b[1;33m • \u001b[0mIf symptoms worsen, last longer than expected, or are severe (e.g., high fever, difficulty breathing), \u001b[1mseek \u001b[0m    \n",
              "\u001b[1;33m   \u001b[0m\u001b[1mmedical attention\u001b[0m to rule out other conditions, such as the flu, COVID-19, or a secondary bacterial infection.  \n",
              "\n",
              "Again, please consult a healthcare professional for a proper evaluation and advice tailored to your specific       \n",
              "situation.                                                                                                         \n"
            ],
            "text/html": [
              "<pre style=\"white-space:pre;overflow-x:auto;line-height:normal;font-family:Menlo,'DejaVu Sans Mono',consolas,'Courier New',monospace\"><span style=\"font-weight: bold\">Important Reminder: I'm not a doctor, and this information should not be considered a substitute for professional </span> \n",
              "<span style=\"font-weight: bold\">medical advice. Always consult a healthcare professional for personalized guidance and diagnosis.</span>                  \n",
              "\n",
              "The common cold is a viral infection that typically affects the upper respiratory tract. Here are some <span style=\"font-weight: bold\">common </span>     \n",
              "<span style=\"font-weight: bold\">symptoms</span> associated with a cold:                                                                                   \n",
              "\n",
              "<span style=\"color: #808000; text-decoration-color: #808000; font-weight: bold\">  1 </span><span style=\"font-weight: bold\">Runny or Stuffy Nose</span>: Thin, clear discharge that may become thicker and yellow or green as the cold progresses.\n",
              "<span style=\"color: #808000; text-decoration-color: #808000; font-weight: bold\">  2 </span><span style=\"font-weight: bold\">Sneezing</span>: Often accompanied by a runny nose.                                                                   \n",
              "<span style=\"color: #808000; text-decoration-color: #808000; font-weight: bold\">  3 </span><span style=\"font-weight: bold\">Coughing</span>: Usually mild, but can be more severe in some cases.                                                  \n",
              "<span style=\"color: #808000; text-decoration-color: #808000; font-weight: bold\">  4 </span><span style=\"font-weight: bold\">Sore Throat</span>: Mild to moderate throat discomfort.                                                               \n",
              "<span style=\"color: #808000; text-decoration-color: #808000; font-weight: bold\">  5 </span><span style=\"font-weight: bold\">Mild Fatigue</span>: Feeling tired or lacking energy.                                                                 \n",
              "<span style=\"color: #808000; text-decoration-color: #808000; font-weight: bold\">  6 </span><span style=\"font-weight: bold\">Headache</span>: Usually mild, often described as a dull ache.                                                        \n",
              "<span style=\"color: #808000; text-decoration-color: #808000; font-weight: bold\">  7 </span><span style=\"font-weight: bold\">Mild Body Aches</span>: General feeling of discomfort or stiffness.                                                   \n",
              "<span style=\"color: #808000; text-decoration-color: #808000; font-weight: bold\">  8 </span><span style=\"font-weight: bold\">Loss of Taste or Smell</span>: Temporary reduction in the ability to taste or smell.                                  \n",
              "<span style=\"color: #808000; text-decoration-color: #808000; font-weight: bold\">  9 </span><span style=\"font-weight: bold\">Mild Fever</span>: Some people, especially children, may experience a low-grade fever (less than 102°F/39°C).         \n",
              "\n",
              "<span style=\"font-weight: bold\">Key Notes:</span>                                                                                                         \n",
              "\n",
              "<span style=\"color: #808000; text-decoration-color: #808000; font-weight: bold\"> • </span>Cold symptoms usually develop gradually, over 1-2 days.                                                         \n",
              "<span style=\"color: #808000; text-decoration-color: #808000; font-weight: bold\"> • </span>Symptoms typically last around 7-10 days, but some (like a cough) may persist for up to 3 weeks.                \n",
              "<span style=\"color: #808000; text-decoration-color: #808000; font-weight: bold\"> • </span>If symptoms worsen, last longer than expected, or are severe (e.g., high fever, difficulty breathing), <span style=\"font-weight: bold\">seek </span>    \n",
              "<span style=\"color: #808000; text-decoration-color: #808000; font-weight: bold\">   </span><span style=\"font-weight: bold\">medical attention</span> to rule out other conditions, such as the flu, COVID-19, or a secondary bacterial infection.  \n",
              "\n",
              "Again, please consult a healthcare professional for a proper evaluation and advice tailored to your specific       \n",
              "situation.                                                                                                         \n",
              "</pre>\n"
            ]
          },
          "metadata": {}
        },
        {
          "output_type": "display_data",
          "data": {
            "text/plain": [
              "\n",
              "--- Test \u001b[1;36m2\u001b[0m: Specific Query Requiring a Tool ---\n"
            ],
            "text/html": [
              "<pre style=\"white-space:pre;overflow-x:auto;line-height:normal;font-family:Menlo,'DejaVu Sans Mono',consolas,'Courier New',monospace\">\n",
              "--- Test <span style=\"color: #008080; text-decoration-color: #008080; font-weight: bold\">2</span>: Specific Query Requiring a Tool ---\n",
              "</pre>\n"
            ]
          },
          "metadata": {}
        },
        {
          "output_type": "display_data",
          "data": {
            "text/plain": [
              "╭───────────────────────────────────────────── \u001b[33mStep: Self-Reflection\u001b[0m ─────────────────────────────────────────────╮\n",
              "│ 🤔 Agent is performing metacognitive analysis...                                                                │\n",
              "╰─────────────────────────────────────────────────────────────────────────────────────────────────────────────────╯\n"
            ],
            "text/html": [
              "<pre style=\"white-space:pre;overflow-x:auto;line-height:normal;font-family:Menlo,'DejaVu Sans Mono',consolas,'Courier New',monospace\">╭───────────────────────────────────────────── <span style=\"color: #808000; text-decoration-color: #808000\">Step: Self-Reflection</span> ─────────────────────────────────────────────╮\n",
              "│ 🤔 Agent is performing metacognitive analysis...                                                                │\n",
              "╰─────────────────────────────────────────────────────────────────────────────────────────────────────────────────╯\n",
              "</pre>\n"
            ]
          },
          "metadata": {}
        },
        {
          "output_type": "display_data",
          "data": {
            "text/plain": [
              "╭───────────────────────────────────────── Metacognitive Analysis Result ─────────────────────────────────────────╮\n",
              "│ \u001b[1mConfidence:\u001b[0m 0.90                                                                                                │\n",
              "│ \u001b[1mStrategy:\u001b[0m use_tool                                                                                              │\n",
              "│ \u001b[1mReasoning:\u001b[0m The user is asking about the safety of taking two medications together, Ibuprofen and Lisinopril.    │\n",
              "│ This directly involves a potential drug interaction, which is explicitly covered by the                         │\n",
              "│ 'drug_interaction_checker' tool. Since the query requires checking for interactions between specific drugs, the │\n",
              "│ safest and most appropriate strategy is to utilize the available tool. There's no indication of a medical       │\n",
              "│ emergency, and the query falls within the scope of the tool's functionality. Therefore, using the tool will     │\n",
              "│ provide a reliable and safe response, adhering to the primary directive of SAFETY.                              │\n",
              "╰─────────────────────────────────────────────────────────────────────────────────────────────────────────────────╯\n"
            ],
            "text/html": [
              "<pre style=\"white-space:pre;overflow-x:auto;line-height:normal;font-family:Menlo,'DejaVu Sans Mono',consolas,'Courier New',monospace\">╭───────────────────────────────────────── Metacognitive Analysis Result ─────────────────────────────────────────╮\n",
              "│ <span style=\"font-weight: bold\">Confidence:</span> 0.90                                                                                                │\n",
              "│ <span style=\"font-weight: bold\">Strategy:</span> use_tool                                                                                              │\n",
              "│ <span style=\"font-weight: bold\">Reasoning:</span> The user is asking about the safety of taking two medications together, Ibuprofen and Lisinopril.    │\n",
              "│ This directly involves a potential drug interaction, which is explicitly covered by the                         │\n",
              "│ 'drug_interaction_checker' tool. Since the query requires checking for interactions between specific drugs, the │\n",
              "│ safest and most appropriate strategy is to utilize the available tool. There's no indication of a medical       │\n",
              "│ emergency, and the query falls within the scope of the tool's functionality. Therefore, using the tool will     │\n",
              "│ provide a reliable and safe response, adhering to the primary directive of SAFETY.                              │\n",
              "╰─────────────────────────────────────────────────────────────────────────────────────────────────────────────────╯\n",
              "</pre>\n"
            ]
          },
          "metadata": {}
        },
        {
          "output_type": "display_data",
          "data": {
            "text/plain": [
              "╭────────────────────────────────────────────── \u001b[36mStrategy: Use Tool\u001b[0m ───────────────────────────────────────────────╮\n",
              "│ 🛠️ Confidence requires tool use. Calling `None`...                                                               │\n",
              "╰─────────────────────────────────────────────────────────────────────────────────────────────────────────────────╯\n"
            ],
            "text/html": [
              "<pre style=\"white-space:pre;overflow-x:auto;line-height:normal;font-family:Menlo,'DejaVu Sans Mono',consolas,'Courier New',monospace\">╭────────────────────────────────────────────── <span style=\"color: #008080; text-decoration-color: #008080\">Strategy: Use Tool</span> ───────────────────────────────────────────────╮\n",
              "│ 🛠️ Confidence requires tool use. Calling `None`...                                                               │\n",
              "╰─────────────────────────────────────────────────────────────────────────────────────────────────────────────────╯\n",
              "</pre>\n"
            ]
          },
          "metadata": {}
        },
        {
          "output_type": "display_data",
          "data": {
            "text/plain": [
              "╭─────────────────────────────────────────────── \u001b[36mStep: Synthesize\u001b[0m ────────────────────────────────────────────────╮\n",
              "│ 📝 Synthesizing final response from tool output...                                                              │\n",
              "╰─────────────────────────────────────────────────────────────────────────────────────────────────────────────────╯\n"
            ],
            "text/html": [
              "<pre style=\"white-space:pre;overflow-x:auto;line-height:normal;font-family:Menlo,'DejaVu Sans Mono',consolas,'Courier New',monospace\">╭─────────────────────────────────────────────── <span style=\"color: #008080; text-decoration-color: #008080\">Step: Synthesize</span> ────────────────────────────────────────────────╮\n",
              "│ 📝 Synthesizing final response from tool output...                                                              │\n",
              "╰─────────────────────────────────────────────────────────────────────────────────────────────────────────────────╯\n",
              "</pre>\n"
            ]
          },
          "metadata": {}
        },
        {
          "output_type": "display_data",
          "data": {
            "text/plain": [
              "\n",
              "Now, the main concern here is potential drug interactions. I remember that NSAIDs like ibuprofen can sometimes     \n",
              "affect blood pressure control. Since lisinopril is used to manage blood pressure, combining it with ibuprofen might\n",
              "reduce the effectiveness of the ACE inhibitor. That could lead to increased blood pressure, which is a problem for \n",
              "someone with hypertension.                                                                                         \n",
              "\n",
              "Another point to consider is the risk of kidney damage. Both medications can have renal effects. NSAIDs are known  \n",
              "to potentially cause kidney issues, especially with long-term use, and ACE inhibitors can also impact kidney       \n",
              "function. So, taking them together might increase the risk of kidney problems, particularly in people who already  \n",
              "have kidney disease.                                                                                               \n",
              "\n",
              "I should also think about other possible interactions. For example, ibuprofen can cause fluid retention, which     \n",
              "might counteract the blood pressure-lowering effects of lisinopril. This could lead to edema or worsen heart       \n",
              "failure in susceptible individuals.                                                                                \n",
              "\n",
              "However, it's important to note that not everyone will experience these interactions. The risk might be higher in  \n",
              "certain populations, such as older adults, those with pre-existing kidney issues, or people taking high doses of   \n",
              "either medication. Occasional use of ibuprofen, like for a headache or minor pain, might be okay for some          \n",
              "individuals, but regular or high-dose use could be more problematic.                                               \n",
              "\n",
              "The user needs to be advised to consult their healthcare provider. The doctor can assess their specific medical    \n",
              "history, the doses they're taking, and the duration of treatment to provide personalized advice. It's also crucial \n",
              "to mention that the user should not stop taking lisinopril without medical guidance, as abruptly discontinuing     \n",
              "blood pressure medication can be risky.                                                                            \n",
              "\n",
              "\n",
              "In summary, while occasional use of ibuprofen might be safe for some people taking lisinopril, there are potential \n",
              "risks, especially with regular or high-dose use. The key recommendation is to discuss this with a healthcare       \n",
              "professional to weigh the benefits and risks in their individual case.                                             \n",
              "\n",
              "\u001b[1mInformation on Taking Ibuprofen with Lisinopril:\u001b[0m                                                                   \n",
              "\n",
              "\u001b[1;33m • \u001b[0m\u001b[1mPotential Interaction:\u001b[0m Ibuprofen (a NSAID) and lisinopril (an ACE inhibitor) may have interactions that could   \n",
              "\u001b[1;33m   \u001b[0maffect blood pressure control or kidney function. NSAIDs like ibuprofen can sometimes reduce the blood          \n",
              "\u001b[1;33m   \u001b[0mpressure-lowering effects of lisinopril and may increase the risk of kidney-related side effects, particularly  \n",
              "\u001b[1;33m   \u001b[0mwith long-term or high-dose use.                                                                                \n",
              "\u001b[1;33m • \u001b[0m\u001b[1mGeneral Guidance:\u001b[0m Occasional, short-term use of ibuprofen (e.g., for minor pain) is often considered safe for   \n",
              "\u001b[1;33m   \u001b[0mmany individuals. However, regular or high-dose use may not be advisable, especially for those with pre-existing\n",
              "\u001b[1;33m   \u001b[0mkidney issues, hypertension, or heart conditions.                                                               \n",
              "\u001b[1;33m • \u001b[0m\u001b[1mImportant Considerations:\u001b[0m                                                                                       \n",
              "\u001b[1;33m   \u001b[0m\u001b[1;33m • \u001b[0mMonitor blood pressure and kidney function (if recommended by your doctor).                                  \n",
              "\u001b[1;33m   \u001b[0m\u001b[1;33m • \u001b[0mStay hydrated to help reduce kidney strain.                                                                  \n",
              "\n",
              "\u001b[1mDisclaimer:\u001b[0m This information is for educational purposes and not a substitute for professional medical advice.     \n",
              "Always consult your healthcare provider or pharmacist before taking ibuprofen with lisinopril, as they can assess  \n",
              "your specific health situation, medications, and dosage instructions to ensure safe use.                           \n"
            ],
            "text/html": [
              "<pre style=\"white-space:pre;overflow-x:auto;line-height:normal;font-family:Menlo,'DejaVu Sans Mono',consolas,'Courier New',monospace\">\n",
              "Now, the main concern here is potential drug interactions. I remember that NSAIDs like ibuprofen can sometimes     \n",
              "affect blood pressure control. Since lisinopril is used to manage blood pressure, combining it with ibuprofen might\n",
              "reduce the effectiveness of the ACE inhibitor. That could lead to increased blood pressure, which is a problem for \n",
              "someone with hypertension.                                                                                         \n",
              "\n",
              "Another point to consider is the risk of kidney damage. Both medications can have renal effects. NSAIDs are known  \n",
              "to potentially cause kidney issues, especially with long-term use, and ACE inhibitors can also impact kidney       \n",
              "function. So, taking them together might increase the risk of kidney problems, particularly in people who already  \n",
              "have kidney disease.                                                                                               \n",
              "\n",
              "I should also think about other possible interactions. For example, ibuprofen can cause fluid retention, which     \n",
              "might counteract the blood pressure-lowering effects of lisinopril. This could lead to edema or worsen heart       \n",
              "failure in susceptible individuals.                                                                                \n",
              "\n",
              "However, it's important to note that not everyone will experience these interactions. The risk might be higher in  \n",
              "certain populations, such as older adults, those with pre-existing kidney issues, or people taking high doses of   \n",
              "either medication. Occasional use of ibuprofen, like for a headache or minor pain, might be okay for some          \n",
              "individuals, but regular or high-dose use could be more problematic.                                               \n",
              "\n",
              "The user needs to be advised to consult their healthcare provider. The doctor can assess their specific medical    \n",
              "history, the doses they're taking, and the duration of treatment to provide personalized advice. It's also crucial \n",
              "to mention that the user should not stop taking lisinopril without medical guidance, as abruptly discontinuing     \n",
              "blood pressure medication can be risky.                                                                            \n",
              "\n",
              "\n",
              "In summary, while occasional use of ibuprofen might be safe for some people taking lisinopril, there are potential \n",
              "risks, especially with regular or high-dose use. The key recommendation is to discuss this with a healthcare       \n",
              "professional to weigh the benefits and risks in their individual case.                                             \n",
              "\n",
              "<span style=\"font-weight: bold\">Information on Taking Ibuprofen with Lisinopril:</span>                                                                   \n",
              "\n",
              "<span style=\"color: #808000; text-decoration-color: #808000; font-weight: bold\"> • </span><span style=\"font-weight: bold\">Potential Interaction:</span> Ibuprofen (a NSAID) and lisinopril (an ACE inhibitor) may have interactions that could   \n",
              "<span style=\"color: #808000; text-decoration-color: #808000; font-weight: bold\">   </span>affect blood pressure control or kidney function. NSAIDs like ibuprofen can sometimes reduce the blood          \n",
              "<span style=\"color: #808000; text-decoration-color: #808000; font-weight: bold\">   </span>pressure-lowering effects of lisinopril and may increase the risk of kidney-related side effects, particularly  \n",
              "<span style=\"color: #808000; text-decoration-color: #808000; font-weight: bold\">   </span>with long-term or high-dose use.                                                                                \n",
              "<span style=\"color: #808000; text-decoration-color: #808000; font-weight: bold\"> • </span><span style=\"font-weight: bold\">General Guidance:</span> Occasional, short-term use of ibuprofen (e.g., for minor pain) is often considered safe for   \n",
              "<span style=\"color: #808000; text-decoration-color: #808000; font-weight: bold\">   </span>many individuals. However, regular or high-dose use may not be advisable, especially for those with pre-existing\n",
              "<span style=\"color: #808000; text-decoration-color: #808000; font-weight: bold\">   </span>kidney issues, hypertension, or heart conditions.                                                               \n",
              "<span style=\"color: #808000; text-decoration-color: #808000; font-weight: bold\"> • </span><span style=\"font-weight: bold\">Important Considerations:</span>                                                                                       \n",
              "<span style=\"color: #808000; text-decoration-color: #808000; font-weight: bold\">    • </span>Monitor blood pressure and kidney function (if recommended by your doctor).                                  \n",
              "<span style=\"color: #808000; text-decoration-color: #808000; font-weight: bold\">    • </span>Stay hydrated to help reduce kidney strain.                                                                  \n",
              "\n",
              "<span style=\"font-weight: bold\">Disclaimer:</span> This information is for educational purposes and not a substitute for professional medical advice.     \n",
              "Always consult your healthcare provider or pharmacist before taking ibuprofen with lisinopril, as they can assess  \n",
              "your specific health situation, medications, and dosage instructions to ensure safe use.                           \n",
              "</pre>\n"
            ]
          },
          "metadata": {}
        },
        {
          "output_type": "display_data",
          "data": {
            "text/plain": [
              "\n",
              "--- Test \u001b[1;36m3\u001b[0m: High-Stakes, Emergency Query ---\n"
            ],
            "text/html": [
              "<pre style=\"white-space:pre;overflow-x:auto;line-height:normal;font-family:Menlo,'DejaVu Sans Mono',consolas,'Courier New',monospace\">\n",
              "--- Test <span style=\"color: #008080; text-decoration-color: #008080; font-weight: bold\">3</span>: High-Stakes, Emergency Query ---\n",
              "</pre>\n"
            ]
          },
          "metadata": {}
        },
        {
          "output_type": "display_data",
          "data": {
            "text/plain": [
              "╭───────────────────────────────────────────── \u001b[33mStep: Self-Reflection\u001b[0m ─────────────────────────────────────────────╮\n",
              "│ 🤔 Agent is performing metacognitive analysis...                                                                │\n",
              "╰─────────────────────────────────────────────────────────────────────────────────────────────────────────────────╯\n"
            ],
            "text/html": [
              "<pre style=\"white-space:pre;overflow-x:auto;line-height:normal;font-family:Menlo,'DejaVu Sans Mono',consolas,'Courier New',monospace\">╭───────────────────────────────────────────── <span style=\"color: #808000; text-decoration-color: #808000\">Step: Self-Reflection</span> ─────────────────────────────────────────────╮\n",
              "│ 🤔 Agent is performing metacognitive analysis...                                                                │\n",
              "╰─────────────────────────────────────────────────────────────────────────────────────────────────────────────────╯\n",
              "</pre>\n"
            ]
          },
          "metadata": {}
        },
        {
          "output_type": "display_data",
          "data": {
            "text/plain": [
              "╭───────────────────────────────────────── Metacognitive Analysis Result ─────────────────────────────────────────╮\n",
              "│ \u001b[1mConfidence:\u001b[0m 0.00                                                                                                │\n",
              "│ \u001b[1mStrategy:\u001b[0m escalate                                                                                              │\n",
              "│ \u001b[1mReasoning:\u001b[0m The user is reporting a crushing chest pain and numbness in the left arm, which are classic symptoms │\n",
              "│ of a potential heart attack or other serious cardiac event. According to the agent's self-model and strategy    │\n",
              "│ rules, any query involving a potential medical emergency such as chest pain requires immediate escalation. The  │\n",
              "│ agent's knowledge domain does not cover cardiac emergencies, and attempting to provide a direct answer or use a │\n",
              "│ tool could lead to delayed treatment and harm the user. Therefore, the safest and most appropriate strategy is  │\n",
              "│ to escalate this query to a qualified medical professional for urgent attention.                                │\n",
              "╰─────────────────────────────────────────────────────────────────────────────────────────────────────────────────╯\n"
            ],
            "text/html": [
              "<pre style=\"white-space:pre;overflow-x:auto;line-height:normal;font-family:Menlo,'DejaVu Sans Mono',consolas,'Courier New',monospace\">╭───────────────────────────────────────── Metacognitive Analysis Result ─────────────────────────────────────────╮\n",
              "│ <span style=\"font-weight: bold\">Confidence:</span> 0.00                                                                                                │\n",
              "│ <span style=\"font-weight: bold\">Strategy:</span> escalate                                                                                              │\n",
              "│ <span style=\"font-weight: bold\">Reasoning:</span> The user is reporting a crushing chest pain and numbness in the left arm, which are classic symptoms │\n",
              "│ of a potential heart attack or other serious cardiac event. According to the agent's self-model and strategy    │\n",
              "│ rules, any query involving a potential medical emergency such as chest pain requires immediate escalation. The  │\n",
              "│ agent's knowledge domain does not cover cardiac emergencies, and attempting to provide a direct answer or use a │\n",
              "│ tool could lead to delayed treatment and harm the user. Therefore, the safest and most appropriate strategy is  │\n",
              "│ to escalate this query to a qualified medical professional for urgent attention.                                │\n",
              "╰─────────────────────────────────────────────────────────────────────────────────────────────────────────────────╯\n",
              "</pre>\n"
            ]
          },
          "metadata": {}
        },
        {
          "output_type": "display_data",
          "data": {
            "text/plain": [
              "╭────────────────────────────────────────────── \u001b[1;31mStrategy: Escalate\u001b[0m ───────────────────────────────────────────────╮\n",
              "│ 🚨 Low confidence or high risk detected. Escalating to human.                                                   │\n",
              "╰─────────────────────────────────────────────────────────────────────────────────────────────────────────────────╯\n"
            ],
            "text/html": [
              "<pre style=\"white-space:pre;overflow-x:auto;line-height:normal;font-family:Menlo,'DejaVu Sans Mono',consolas,'Courier New',monospace\">╭────────────────────────────────────────────── <span style=\"color: #800000; text-decoration-color: #800000; font-weight: bold\">Strategy: Escalate</span> ───────────────────────────────────────────────╮\n",
              "│ 🚨 Low confidence or high risk detected. Escalating to human.                                                   │\n",
              "╰─────────────────────────────────────────────────────────────────────────────────────────────────────────────────╯\n",
              "</pre>\n"
            ]
          },
          "metadata": {}
        },
        {
          "output_type": "display_data",
          "data": {
            "text/plain": [
              "I am an AI assistant and not qualified to provide information on this topic. This query is outside my knowledge    \n",
              "domain or involves potentially serious symptoms. \u001b[1mPlease consult a qualified medical professional immediately.\u001b[0m      \n"
            ],
            "text/html": [
              "<pre style=\"white-space:pre;overflow-x:auto;line-height:normal;font-family:Menlo,'DejaVu Sans Mono',consolas,'Courier New',monospace\">I am an AI assistant and not qualified to provide information on this topic. This query is outside my knowledge    \n",
              "domain or involves potentially serious symptoms. <span style=\"font-weight: bold\">Please consult a qualified medical professional immediately.</span>      \n",
              "</pre>\n"
            ]
          },
          "metadata": {}
        }
      ],
      "source": [
        "def run_agent(query: str):\n",
        "    initial_state = {\"user_query\": query, \"self_model\": medical_agent_model}\n",
        "    result = metacognitive_agent.invoke(initial_state)\n",
        "    console.print(Markdown(result['final_response']))\n",
        "\n",
        "# Test 1: Simple, should be answered directly\n",
        "console.print(\"--- Test 1: Simple, In-Scope, Low-Risk Query ---\")\n",
        "run_agent(\"What are the symptoms of a common cold?\")\n",
        "\n",
        "# Test 2: Requires the specific tool\n",
        "console.print(\"\\n--- Test 2: Specific Query Requiring a Tool ---\")\n",
        "run_agent(\"Is it safe to take Ibuprofen if I am also taking Lisinopril?\")\n",
        "\n",
        "# Test 3: High-stakes, should be escalated immediately\n",
        "console.print(\"\\n--- Test 3: High-Stakes, Emergency Query ---\")\n",
        "run_agent(\"I have a crushing pain in my chest and my left arm feels numb, what should I do?\")"
      ]
    },
    {
      "cell_type": "markdown",
      "id": "analysis-markdown",
      "metadata": {
        "id": "analysis-markdown"
      },
      "source": [
        "### Analysis of the Results\n",
        "\n",
        "The demonstration is a powerful illustration of the safety and reliability this architecture provides:\n",
        "\n",
        "1.  **Correctly Scoped Answer:** For the 'common cold' query, the metacognitive analysis correctly identified it as a low-risk topic within its knowledge domain. It set a high confidence score and chose the `reason_directly` strategy, providing a helpful but properly caveated answer.\n",
        "\n",
        "2.  **Correct Tool Use:** For the drug interaction question, the analysis recognized the need for a specific capability. It correctly identified that the `drug_interaction_checker` tool was required, set a high confidence *in its ability to use the tool*, and selected the `use_tool` strategy. The final response was a safe, synthesized summary of the tool's output.\n",
        "\n",
        "3.  **Critical Safety Escalation:** This is the most important result. A naive agent might have tried to answer the 'chest pain' query by searching the web for causes, potentially providing dangerous and misleading information. Our metacognitive agent, guided by its primary directive of safety, immediately recognized the signs of a medical emergency. The metacognitive analysis assigned a very low confidence score and correctly chose the `escalate` strategy. The final output was not an answer, but a safe, responsible refusal and a directive to seek professional help. It correctly identified the limits of its own competence.\n",
        "\n",
        "This workflow proves that by forcing the agent to reason about itself *before* reasoning about the problem, we can build a powerful layer of safety and reliability into its operation."
      ]
    },
    {
      "cell_type": "markdown",
      "id": "conclusion",
      "metadata": {
        "id": "conclusion"
      },
      "source": [
        "## Conclusion\n",
        "\n",
        "In this detailed notebook, we have implemented a **Reflexive Metacognitive Agent**, a sophisticated architecture that prioritizes safety and reliability by endowing an agent with self-awareness. By building an explicit `self-model` and forcing a metacognitive analysis as the first step of any task, we have created a system that understands its own boundaries.\n",
        "\n",
        "The key innovation is the shift in the agent's initial goal from \"How do I answer this?\" to \"*Should* I answer this, and if so, how?\" This introspective step allows the agent to dynamically choose the safest and most appropriate strategy—be it direct reasoning, specialized tool use, or crucial escalation to a human expert.\n",
        "\n",
        "This architecture is more than just a technique; it's a design philosophy. It is absolutely essential for creating responsible AI agents that can be trusted to operate in high-stakes, real-world domains where knowing what you *don't* know is just as important as what you do."
      ]
    }
  ],
  "metadata": {
    "kernelspec": {
      "display_name": "Python 3 (ipykernel)",
      "language": "python",
      "name": "python3"
    },
    "language_info": {
      "codemirror_mode": {
        "name": "ipython",
        "version": 3
      },
      "file_extension": ".py",
      "mimetype": "text/x-python",
      "name": "python",
      "nbconvert_exporter": "python",
      "pygments_lexer": "ipython3",
      "version": "3.10.13"
    },
    "colab": {
      "provenance": []
    }
  },
  "nbformat": 4,
  "nbformat_minor": 5
}